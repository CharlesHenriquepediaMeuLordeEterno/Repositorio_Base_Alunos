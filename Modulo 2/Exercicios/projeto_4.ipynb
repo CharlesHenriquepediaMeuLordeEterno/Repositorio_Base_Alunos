{
 "cells": [
  {
   "cell_type": "markdown",
   "id": "f7e6eb37",
   "metadata": {},
   "source": [
    "# 🕵️‍♂️ MISSÃO SINARM: ANÁLISE DE INTELIGÊNCIA\n",
    "## 📋 CONTEXTO DA OPERAÇÃO\n",
    "\n",
    "Caros Aspirantes a Analistas de Dados Forenses,\n",
    "\n",
    "Vocês foram recrutados para uma operação especial da Polícia Federal! Como estagiários do setor de inteligência, sua missão é analisar dados reais de ocorrências envolvendo armas de fogo.\n",
    "\n",
    "### Um arquivo confidencial contendo dados de 2025 acaba de chegar em suas mãos: OCORRENCIAS_2025.csv\n",
    "---\n",
    "## 🎯 OBJETIVO DA MISSÃO\n",
    "\n",
    "Sua tarefa é desenvolver um algoritmo em Python que:\n",
    "\n",
    "    Identifique os tipos de armas (espécies) envolvidas nas ocorrências\n",
    "\n",
    "    Classifique as armas em categorias específicas (calibres)\n",
    "\n",
    "    Conte quantas armas de cada tipo foram apreendidas\n",
    "\n",
    "## 🔍 DADOS DA OPERAÇÃO\n",
    "\n",
    "O arquivo CSV contém as seguintes colunas relevantes:\n",
    "\n",
    "    ESPECIE_ARMA (descrição do tipo de arma)\n",
    "\n",
    "    CALIBRE_ARMA (calibre da arma)\n",
    "\n",
    "    MARCA_ARMA (fabricante da arma)"
   ]
  },
  {
   "cell_type": "code",
   "execution_count": null,
   "id": "e3270dd8",
   "metadata": {},
   "outputs": [
    {
     "name": "stdout",
     "output_type": "stream",
     "text": [
      "1099 3120 10 1750 495 200 0 0 0 10 0 6727\n"
     ]
    }
   ],
   "source": [
    "# Seu código aqui:\n",
    "\n",
    "import csv\n",
    "\n",
    "exampleFile = open('OCORRENCIAS_2025.csv')\n",
    "exampleReader = csv.reader(exampleFile, delimiter=';')\n",
    "total_espingarda = 0\n",
    "total_pistola = 0\n",
    "total_pistolao = 0\n",
    "total_revolver = 0\n",
    "total_rifle = 0\n",
    "total_carabina = 0\n",
    "total_carabina_fuzil = 0\n",
    "total_carabina_cartucheira = 0\n",
    "total_carabina_espingarda = 0\n",
    "total_fuzil = 0\n",
    "total_garrucha = 0\n",
    "total_garruchao = 0\n",
    "for row in exampleReader:\n",
    "    if (row[4].strip() == 'Espingarda'):\n",
    "        total_espingarda +=1\n",
    "    elif(row[4].strip() == 'Pistola'):\n",
    "        total_pistola +=1\n",
    "    elif(row[4].strip() == 'Pistolao'):\n",
    "        total_pistolao +=1\n",
    "    elif(row[4].strip() == 'Revolver'):\n",
    "        total_revolver +=1\n",
    "    elif(row[4].strip() == 'Rifle'):\n",
    "        total_rifle +=1\n",
    "    elif(row[4].strip() == 'Carabina'):\n",
    "        total_carabina +=1\n",
    "    elif(row[4].strip() == 'Carabina_Fuzil'):\n",
    "        total_carabina_fuzil +=1\n",
    "    elif(row[4].strip() == 'Carabina_Cartucheira'):\n",
    "        total_carabina_cartucheira +=1    \n",
    "    elif(row[4].strip() == 'Carabina_Espingarda'):\n",
    "        total_carabina_espingarda +=1\n",
    "    elif(row[4].strip() == 'Fuzil'):\n",
    "        total_fuzil +=1\n",
    "    elif(row[4].strip() == 'Garrucha'):\n",
    "        total_garruchao +=1\n",
    "    else:(row[4].strip() == 'Garruchao')\n",
    "    total_garruchao +=1          \n",
    "\n",
    "print(total_espingarda, total_pistola, total_pistolao, total_revolver, total_rifle, total_carabina, total_carabina_cartucheira, total_carabina_fuzil, total_carabina_espingarda,total_fuzil, total_garrucha, total_garruchao)\n",
    "\n",
    "\n",
    "calibres = OCORRENCIAS_2025.csv"
   ]
  }
 ],
 "metadata": {
  "kernelspec": {
   "display_name": "Python 3",
   "language": "python",
   "name": "python3"
  },
  "language_info": {
   "codemirror_mode": {
    "name": "ipython",
    "version": 3
   },
   "file_extension": ".py",
   "mimetype": "text/x-python",
   "name": "python",
   "nbconvert_exporter": "python",
   "pygments_lexer": "ipython3",
   "version": "3.13.2"
  }
 },
 "nbformat": 4,
 "nbformat_minor": 5
}
